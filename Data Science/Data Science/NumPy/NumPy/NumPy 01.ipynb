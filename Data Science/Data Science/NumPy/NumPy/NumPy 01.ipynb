{
 "cells": [
  {
   "cell_type": "markdown",
   "id": "91e1d94a-08a1-4d71-9f12-ead6dad2f45e",
   "metadata": {},
   "source": [
    "**<h1>Exploring NumPy</h1>**"
   ]
  },
  {
   "cell_type": "code",
   "execution_count": 2,
   "id": "6cf53e6e-37da-4c6b-97ea-8c7c0b014f77",
   "metadata": {},
   "outputs": [],
   "source": [
    "import numpy as np"
   ]
  },
  {
   "cell_type": "code",
   "execution_count": 3,
   "id": "41454034-7d64-4378-a44d-42fdfbf09fcb",
   "metadata": {},
   "outputs": [],
   "source": [
    "array1=[1,3,5,7,9]"
   ]
  },
  {
   "cell_type": "code",
   "execution_count": 4,
   "id": "5d713fdd-01da-4820-8f46-901435c9da62",
   "metadata": {},
   "outputs": [
    {
     "data": {
      "text/plain": [
       "list"
      ]
     },
     "execution_count": 4,
     "metadata": {},
     "output_type": "execute_result"
    }
   ],
   "source": [
    "type(array1)"
   ]
  },
  {
   "cell_type": "code",
   "execution_count": 5,
   "id": "a169e7a0-fa3a-408f-b5af-a200ca7cb9fc",
   "metadata": {},
   "outputs": [],
   "source": [
    "array1=np.array(array1)"
   ]
  },
  {
   "cell_type": "code",
   "execution_count": 6,
   "id": "0b1e1279-cd65-4319-8ee6-10be6d751eda",
   "metadata": {},
   "outputs": [
    {
     "data": {
      "text/plain": [
       "array([1, 3, 5, 7, 9])"
      ]
     },
     "execution_count": 6,
     "metadata": {},
     "output_type": "execute_result"
    }
   ],
   "source": [
    "array1"
   ]
  },
  {
   "cell_type": "code",
   "execution_count": 7,
   "id": "b6c3e803-169b-4d8d-9b90-5044c2e7bffd",
   "metadata": {},
   "outputs": [
    {
     "data": {
      "text/plain": [
       "numpy.ndarray"
      ]
     },
     "execution_count": 7,
     "metadata": {},
     "output_type": "execute_result"
    }
   ],
   "source": [
    "type(array1)"
   ]
  },
  {
   "cell_type": "markdown",
   "id": "2d2df32b-dd7f-4732-8aee-3069459f0828",
   "metadata": {},
   "source": [
    "**Performing Mathematical Operations**"
   ]
  },
  {
   "cell_type": "code",
   "execution_count": 8,
   "id": "da05a5c1-64ad-4720-b12f-acca57106b4f",
   "metadata": {},
   "outputs": [],
   "source": [
    "array2=array1*2"
   ]
  },
  {
   "cell_type": "code",
   "execution_count": 9,
   "id": "cc19885b-140f-4628-9b35-7238358adf49",
   "metadata": {},
   "outputs": [
    {
     "data": {
      "text/plain": [
       "array([ 2,  6, 10, 14, 18])"
      ]
     },
     "execution_count": 9,
     "metadata": {},
     "output_type": "execute_result"
    }
   ],
   "source": [
    "array2"
   ]
  },
  {
   "cell_type": "code",
   "execution_count": 10,
   "id": "4d0b16a5-3b87-41cd-a8b0-e1f8123fc5e1",
   "metadata": {},
   "outputs": [
    {
     "data": {
      "text/plain": [
       "array([ 5,  9, 13, 17, 21])"
      ]
     },
     "execution_count": 10,
     "metadata": {},
     "output_type": "execute_result"
    }
   ],
   "source": [
    "array2+3"
   ]
  },
  {
   "cell_type": "code",
   "execution_count": 11,
   "id": "16d2a9d5-eb38-4a8a-9acc-a3f98cda38f2",
   "metadata": {},
   "outputs": [
    {
     "data": {
      "text/plain": [
       "array([ 2,  6, 10, 14, 18])"
      ]
     },
     "execution_count": 11,
     "metadata": {},
     "output_type": "execute_result"
    }
   ],
   "source": [
    "array2"
   ]
  },
  {
   "cell_type": "markdown",
   "id": "eb4dc230-696f-4670-aede-0dbc6070a63e",
   "metadata": {},
   "source": [
    "**Creating a 2 Array and exploring more about it**"
   ]
  },
  {
   "cell_type": "code",
   "execution_count": 12,
   "id": "258e1c09-8ee5-4285-a627-647f2803c74b",
   "metadata": {},
   "outputs": [],
   "source": [
    "array3=[[1,2,3],[4,5,6]]"
   ]
  },
  {
   "cell_type": "code",
   "execution_count": 13,
   "id": "2eaa1655-f547-4d9f-872a-aa095927e0eb",
   "metadata": {},
   "outputs": [
    {
     "data": {
      "text/plain": [
       "[[1, 2, 3], [4, 5, 6]]"
      ]
     },
     "execution_count": 13,
     "metadata": {},
     "output_type": "execute_result"
    }
   ],
   "source": [
    "array3"
   ]
  },
  {
   "cell_type": "code",
   "execution_count": 14,
   "id": "17054c82-9260-4cf0-8884-39578e986838",
   "metadata": {},
   "outputs": [
    {
     "data": {
      "text/plain": [
       "array([[1, 2, 3],\n",
       "       [4, 5, 6]])"
      ]
     },
     "execution_count": 14,
     "metadata": {},
     "output_type": "execute_result"
    }
   ],
   "source": [
    "array3=np.array(array3)\n",
    "array3"
   ]
  },
  {
   "cell_type": "code",
   "execution_count": 15,
   "id": "3cbb5b2c-661f-4437-8837-ea4d30bbbcfc",
   "metadata": {},
   "outputs": [
    {
     "data": {
      "text/plain": [
       "3.5"
      ]
     },
     "execution_count": 15,
     "metadata": {},
     "output_type": "execute_result"
    }
   ],
   "source": [
    "np.mean(array3)  #Finding Sum of Array using Mean function of NumPy"
   ]
  },
  {
   "cell_type": "code",
   "execution_count": 16,
   "id": "2d16df96-91d0-40e0-b631-f84c7dde3e20",
   "metadata": {},
   "outputs": [
    {
     "data": {
      "text/plain": [
       "21"
      ]
     },
     "execution_count": 16,
     "metadata": {},
     "output_type": "execute_result"
    }
   ],
   "source": [
    "np.sum(array3)  #Finding Sum of Array using Sum function of NumPy"
   ]
  },
  {
   "cell_type": "code",
   "execution_count": 17,
   "id": "809cd0af-c4f1-487e-bdaa-40485a5a09eb",
   "metadata": {},
   "outputs": [
    {
     "data": {
      "text/plain": [
       "2"
      ]
     },
     "execution_count": 17,
     "metadata": {},
     "output_type": "execute_result"
    }
   ],
   "source": [
    "np.ndim(array3)   #Checking Dimenion of Array"
   ]
  },
  {
   "cell_type": "code",
   "execution_count": 18,
   "id": "518b19c7-105f-4744-a1c2-4287077aad35",
   "metadata": {},
   "outputs": [
    {
     "data": {
      "text/plain": [
       "24"
      ]
     },
     "execution_count": 18,
     "metadata": {},
     "output_type": "execute_result"
    }
   ],
   "source": [
    "array3.nbytes  #Returns total bytes consumed by elements"
   ]
  },
  {
   "cell_type": "code",
   "execution_count": 19,
   "id": "70a00d73-4d42-4c7f-9a52-0b78cc6904dd",
   "metadata": {},
   "outputs": [
    {
     "data": {
      "text/plain": [
       "6"
      ]
     },
     "execution_count": 19,
     "metadata": {},
     "output_type": "execute_result"
    }
   ],
   "source": [
    "array3.size  # Returns total number of elements in the Array"
   ]
  },
  {
   "cell_type": "code",
   "execution_count": 20,
   "id": "c71f6868-7f50-44e5-9ad7-9c2e3abf4405",
   "metadata": {},
   "outputs": [
    {
     "data": {
      "text/plain": [
       "6"
      ]
     },
     "execution_count": 20,
     "metadata": {},
     "output_type": "execute_result"
    }
   ],
   "source": [
    "array3[1,2]"
   ]
  },
  {
   "cell_type": "code",
   "execution_count": 21,
   "id": "38b4a005-5a78-418e-ad43-db095febfe64",
   "metadata": {},
   "outputs": [
    {
     "data": {
      "text/plain": [
       "array([1, 2, 3])"
      ]
     },
     "execution_count": 21,
     "metadata": {},
     "output_type": "execute_result"
    }
   ],
   "source": [
    "array3[0]"
   ]
  },
  {
   "cell_type": "code",
   "execution_count": 22,
   "id": "495d93c8-c8a8-4dd6-872b-6a9276a149aa",
   "metadata": {},
   "outputs": [
    {
     "data": {
      "text/plain": [
       "(2, 3)"
      ]
     },
     "execution_count": 22,
     "metadata": {},
     "output_type": "execute_result"
    }
   ],
   "source": [
    "array3.shape  #Returns Rows and Columns present in Array"
   ]
  },
  {
   "cell_type": "code",
   "execution_count": 23,
   "id": "3daa2126-d998-4459-bb7b-22b20d5c805b",
   "metadata": {},
   "outputs": [],
   "source": [
    "array4=[[1,3,6,5,4,2],[8,7,10,9,11,12]]\n",
    "array4=np.array(array4)"
   ]
  },
  {
   "cell_type": "code",
   "execution_count": 24,
   "id": "f703ce8f-1fbf-4129-b6c4-0969edd17567",
   "metadata": {},
   "outputs": [
    {
     "data": {
      "text/plain": [
       "array([[ 1,  3,  6,  5,  4,  2],\n",
       "       [ 8,  7, 10,  9, 11, 12]])"
      ]
     },
     "execution_count": 24,
     "metadata": {},
     "output_type": "execute_result"
    }
   ],
   "source": [
    "array4"
   ]
  },
  {
   "cell_type": "code",
   "execution_count": 25,
   "id": "ffad4ff7-59ad-43ac-aeda-535f59e6ed43",
   "metadata": {},
   "outputs": [
    {
     "data": {
      "text/plain": [
       "array([[ 1,  3,  6,  5,  4,  2],\n",
       "       [ 8,  7, 10,  0, 11, 12]])"
      ]
     },
     "execution_count": 25,
     "metadata": {},
     "output_type": "execute_result"
    }
   ],
   "source": [
    "array4[1,3]=0\n",
    "\n",
    "array4"
   ]
  },
  {
   "cell_type": "code",
   "execution_count": 26,
   "id": "445d4583-ec89-423b-8975-1c54f2981a7a",
   "metadata": {},
   "outputs": [],
   "source": [
    "array4[:,2]=99,100"
   ]
  },
  {
   "cell_type": "code",
   "execution_count": 27,
   "id": "8904190d-2c91-43a7-ae77-76eca3cafd3c",
   "metadata": {},
   "outputs": [
    {
     "data": {
      "text/plain": [
       "array([[  1,   3,  99,   5,   4,   2],\n",
       "       [  8,   7, 100,   0,  11,  12]])"
      ]
     },
     "execution_count": 27,
     "metadata": {},
     "output_type": "execute_result"
    }
   ],
   "source": [
    "array4"
   ]
  },
  {
   "cell_type": "code",
   "execution_count": 28,
   "id": "94c244b2-f722-43a3-aed5-05e75b918d72",
   "metadata": {},
   "outputs": [],
   "source": [
    "array5=np.zeros((2,3))"
   ]
  },
  {
   "cell_type": "code",
   "execution_count": 29,
   "id": "64768f41-b3c0-417d-925c-15c8f07a4680",
   "metadata": {},
   "outputs": [
    {
     "data": {
      "text/plain": [
       "array([[0., 0., 0.],\n",
       "       [0., 0., 0.]])"
      ]
     },
     "execution_count": 29,
     "metadata": {},
     "output_type": "execute_result"
    }
   ],
   "source": [
    "array5"
   ]
  },
  {
   "cell_type": "code",
   "execution_count": 30,
   "id": "707ae461-f7a0-492d-ba76-5048e23a8f5d",
   "metadata": {},
   "outputs": [
    {
     "data": {
      "text/plain": [
       "array([[1., 1., 1.],\n",
       "       [1., 1., 1.]])"
      ]
     },
     "execution_count": 30,
     "metadata": {},
     "output_type": "execute_result"
    }
   ],
   "source": [
    "array5=np.ones((2,3))\n",
    "array5"
   ]
  },
  {
   "cell_type": "code",
   "execution_count": 31,
   "id": "13240b0f-2ec5-4371-8adb-1ae290effb32",
   "metadata": {},
   "outputs": [
    {
     "data": {
      "text/plain": [
       "array([[[0., 0., 0.],\n",
       "        [0., 0., 0.]],\n",
       "\n",
       "       [[0., 0., 0.],\n",
       "        [0., 0., 0.]],\n",
       "\n",
       "       [[0., 0., 0.],\n",
       "        [0., 0., 0.]]])"
      ]
     },
     "execution_count": 31,
     "metadata": {},
     "output_type": "execute_result"
    }
   ],
   "source": [
    "array3d = np.zeros((3, 2, 3))   #Creating a 3d ararray3d\n",
    "array3d"
   ]
  },
  {
   "cell_type": "code",
   "execution_count": 32,
   "id": "20779273-081d-455c-93d8-6c3ba4afdcca",
   "metadata": {},
   "outputs": [
    {
     "data": {
      "text/plain": [
       "array([[100, 100],\n",
       "       [100, 100]])"
      ]
     },
     "execution_count": 32,
     "metadata": {},
     "output_type": "execute_result"
    }
   ],
   "source": [
    "np.full((2,2),100)"
   ]
  },
  {
   "cell_type": "code",
   "execution_count": 33,
   "id": "d74947a9-4e01-4114-9ac2-e96a773cfbc7",
   "metadata": {},
   "outputs": [
    {
     "data": {
      "text/plain": [
       "array([[0.96126885, 0.27614704],\n",
       "       [0.55937682, 0.77301922],\n",
       "       [0.0594236 , 0.85289106]])"
      ]
     },
     "execution_count": 33,
     "metadata": {},
     "output_type": "execute_result"
    }
   ],
   "source": [
    "np.random.rand(3,2)  #if you just use rand you can only give size and you cant give range"
   ]
  },
  {
   "cell_type": "code",
   "execution_count": 34,
   "id": "4ec7c95b-9c78-4ba2-827f-f18e3752dfac",
   "metadata": {},
   "outputs": [],
   "source": [
    "# If you use randint you can also provide the range along with size"
   ]
  },
  {
   "cell_type": "code",
   "execution_count": 35,
   "id": "755d99fc-7002-41b8-a2e6-3dc36c3a9766",
   "metadata": {},
   "outputs": [
    {
     "data": {
      "text/plain": [
       "array([[5, 8],\n",
       "       [9, 8]])"
      ]
     },
     "execution_count": 35,
     "metadata": {},
     "output_type": "execute_result"
    }
   ],
   "source": [
    "np.random.randint(1, 10, (2, 2))   # array with random integers between 1  to 9, Size is 2x2\n"
   ]
  },
  {
   "cell_type": "code",
   "execution_count": 36,
   "id": "e5bcf5fe-1428-491f-9e36-5a5fdfbb5c82",
   "metadata": {},
   "outputs": [
    {
     "data": {
      "text/plain": [
       "array([[0.35137805, 0.46749164, 0.60321837],\n",
       "       [0.11005383, 0.87484437, 0.26698096]])"
      ]
     },
     "execution_count": 36,
     "metadata": {},
     "output_type": "execute_result"
    }
   ],
   "source": [
    "np.random.rand(2,3)"
   ]
  },
  {
   "cell_type": "code",
   "execution_count": 37,
   "id": "9aa056fa-6590-485d-8f9c-b6fb0d6f5b60",
   "metadata": {},
   "outputs": [],
   "source": [
    "# np.repeat will repeat the desired array the speicified number of times"
   ]
  },
  {
   "cell_type": "code",
   "execution_count": 38,
   "id": "0ef56bbb-c41d-4dfc-9361-cc81346ab15e",
   "metadata": {},
   "outputs": [],
   "source": [
    "# 'arr': The original array that you want to repeat.\n",
    "# '3': The number of times you want to repeat the elements of the array.\n",
    "# 'axis=0': Specifies the axis along which to repeat the elements.\n",
    "#           In this case, axis=0 refers to repeating along the rows."
   ]
  },
  {
   "cell_type": "code",
   "execution_count": 41,
   "id": "a7b3f0ae-45ae-45b7-b857-f9a3e3ad41f9",
   "metadata": {},
   "outputs": [
    {
     "data": {
      "text/plain": [
       "array([[1, 2, 3],\n",
       "       [1, 2, 3],\n",
       "       [1, 2, 3]])"
      ]
     },
     "execution_count": 41,
     "metadata": {},
     "output_type": "execute_result"
    }
   ],
   "source": [
    "arr=[[1,2,3]]\n",
    "r1=np.repeat(arr,3,axis=0)  \n",
    "r1"
   ]
  },
  {
   "cell_type": "code",
   "execution_count": 42,
   "id": "5be5e0b3-d92a-4338-b099-80c918135eaf",
   "metadata": {},
   "outputs": [
    {
     "data": {
      "text/plain": [
       "array([[1, 1, 1, 2, 2, 2, 3, 3, 3]])"
      ]
     },
     "execution_count": 42,
     "metadata": {},
     "output_type": "execute_result"
    }
   ],
   "source": [
    "arr=[[1,2,3]]\n",
    "r1=np.repeat(arr,3,axis=1)  \n",
    "r1"
   ]
  },
  {
   "cell_type": "code",
   "execution_count": null,
   "id": "d4d07127-3abd-4f0c-affb-bc694022b29e",
   "metadata": {},
   "outputs": [],
   "source": []
  }
 ],
 "metadata": {
  "kernelspec": {
   "display_name": "Python 3 (ipykernel)",
   "language": "python",
   "name": "python3"
  },
  "language_info": {
   "codemirror_mode": {
    "name": "ipython",
    "version": 3
   },
   "file_extension": ".py",
   "mimetype": "text/x-python",
   "name": "python",
   "nbconvert_exporter": "python",
   "pygments_lexer": "ipython3",
   "version": "3.12.4"
  }
 },
 "nbformat": 4,
 "nbformat_minor": 5
}
