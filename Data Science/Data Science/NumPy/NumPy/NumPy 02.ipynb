{
 "cells": [
  {
   "cell_type": "markdown",
   "id": "d9429f11-4126-477f-a566-3a7b76202ca7",
   "metadata": {},
   "source": [
    "**<h1>Exploring NumPy 02</h1>**"
   ]
  },
  {
   "cell_type": "code",
   "execution_count": 24,
   "id": "b5b640b8-6297-45b5-92b4-0bc192d216db",
   "metadata": {},
   "outputs": [],
   "source": [
    "import numpy as np"
   ]
  },
  {
   "cell_type": "code",
   "execution_count": 25,
   "id": "1f7f1a47-606e-4eb3-820e-344b200e317a",
   "metadata": {},
   "outputs": [],
   "source": [
    "array1=[1,2,3,4]"
   ]
  },
  {
   "cell_type": "code",
   "execution_count": 39,
   "id": "6bc42e61-d784-4225-81d8-a4aeb7405f3e",
   "metadata": {},
   "outputs": [],
   "source": [
    "array1=np.array(array1)   #Converts list into array"
   ]
  },
  {
   "cell_type": "code",
   "execution_count": 40,
   "id": "13d41789-1c23-46b9-96b4-906b69bc0892",
   "metadata": {},
   "outputs": [
    {
     "data": {
      "text/plain": [
       "array([1, 2, 3, 4])"
      ]
     },
     "execution_count": 40,
     "metadata": {},
     "output_type": "execute_result"
    }
   ],
   "source": [
    "array1"
   ]
  },
  {
   "cell_type": "code",
   "execution_count": 41,
   "id": "62788374-f779-47a5-ba20-e0dceaf3c4e8",
   "metadata": {},
   "outputs": [
    {
     "data": {
      "text/plain": [
       "array([6, 7, 8, 9])"
      ]
     },
     "execution_count": 41,
     "metadata": {},
     "output_type": "execute_result"
    }
   ],
   "source": [
    "array1+5"
   ]
  },
  {
   "cell_type": "code",
   "execution_count": 42,
   "id": "97fe3548-1e46-4cd2-8fa9-8e606e3639c1",
   "metadata": {},
   "outputs": [
    {
     "data": {
      "text/plain": [
       "array([0.2, 0.4, 0.6, 0.8])"
      ]
     },
     "execution_count": 42,
     "metadata": {},
     "output_type": "execute_result"
    }
   ],
   "source": [
    "array1/5"
   ]
  },
  {
   "cell_type": "code",
   "execution_count": 43,
   "id": "212a687a-34ff-4141-be0c-156811d1575f",
   "metadata": {},
   "outputs": [],
   "source": [
    "array2=[1,0,3,0]"
   ]
  },
  {
   "cell_type": "code",
   "execution_count": 44,
   "id": "39ed9e00-23a1-4b50-8fd1-0db78795569b",
   "metadata": {},
   "outputs": [],
   "source": [
    "array2=np.array(array2)"
   ]
  },
  {
   "cell_type": "code",
   "execution_count": 45,
   "id": "d0b47822-479d-43a4-ae76-8c759059dcbb",
   "metadata": {},
   "outputs": [
    {
     "data": {
      "text/plain": [
       "array([1, 0, 3, 0])"
      ]
     },
     "execution_count": 45,
     "metadata": {},
     "output_type": "execute_result"
    }
   ],
   "source": [
    "array2"
   ]
  },
  {
   "cell_type": "code",
   "execution_count": 46,
   "id": "8c9ebbb7-a3ff-40b1-96de-5991326c2988",
   "metadata": {},
   "outputs": [
    {
     "data": {
      "text/plain": [
       "array([2, 2, 6, 4])"
      ]
     },
     "execution_count": 46,
     "metadata": {},
     "output_type": "execute_result"
    }
   ],
   "source": [
    "array1+array2"
   ]
  },
  {
   "cell_type": "code",
   "execution_count": 57,
   "id": "6bfbdc6b-d335-4f23-816c-35d6394c2529",
   "metadata": {},
   "outputs": [
    {
     "data": {
      "text/plain": [
       "array([ 0.54030231, -0.41614684, -0.9899925 , -0.65364362])"
      ]
     },
     "execution_count": 57,
     "metadata": {},
     "output_type": "execute_result"
    }
   ],
   "source": [
    "np.cos(array1) #Finds the Trignometric value of the mentioned array"
   ]
  },
  {
   "cell_type": "code",
   "execution_count": 58,
   "id": "f56b979d-6efc-4e95-941d-c5ab6d989b31",
   "metadata": {},
   "outputs": [
    {
     "data": {
      "text/plain": [
       "array([ 1,  4,  9, 16])"
      ]
     },
     "execution_count": 58,
     "metadata": {},
     "output_type": "execute_result"
    }
   ],
   "source": [
    "array1**2"
   ]
  },
  {
   "cell_type": "code",
   "execution_count": 59,
   "id": "3f91b72b-ea75-43c6-a073-b7a44957aa1a",
   "metadata": {},
   "outputs": [],
   "source": [
    "a=[1,2,3]\n",
    "b=[7,8,9]"
   ]
  },
  {
   "cell_type": "code",
   "execution_count": 60,
   "id": "00110a6c-5cf7-4fbf-b211-73daa31de233",
   "metadata": {},
   "outputs": [],
   "source": [
    "a=np.array(a)\n",
    "b=np.array(b)"
   ]
  },
  {
   "cell_type": "code",
   "execution_count": 61,
   "id": "a6bdaf56-9bc1-4859-8d44-925a511ea0d7",
   "metadata": {},
   "outputs": [
    {
     "data": {
      "text/plain": [
       "array([ 7, 16, 27])"
      ]
     },
     "execution_count": 61,
     "metadata": {},
     "output_type": "execute_result"
    }
   ],
   "source": [
    "a*b"
   ]
  },
  {
   "cell_type": "code",
   "execution_count": 65,
   "id": "08ce9813-63a8-4024-a6e4-4794bdda1684",
   "metadata": {},
   "outputs": [],
   "source": [
    "a1=np.array([[1,2,3],[4,5,6]])  #Creating a 2d Array"
   ]
  },
  {
   "cell_type": "code",
   "execution_count": 66,
   "id": "8b6ab866-7e3a-4759-85c1-04e03f32115b",
   "metadata": {},
   "outputs": [
    {
     "data": {
      "text/plain": [
       "array([[1, 2, 3],\n",
       "       [4, 5, 6]])"
      ]
     },
     "execution_count": 66,
     "metadata": {},
     "output_type": "execute_result"
    }
   ],
   "source": [
    "a1"
   ]
  },
  {
   "cell_type": "code",
   "execution_count": 68,
   "id": "fcfa6f12-e588-4fe1-ab86-b71a9b6fc818",
   "metadata": {},
   "outputs": [
    {
     "data": {
      "text/plain": [
       "(2, 3)"
      ]
     },
     "execution_count": 68,
     "metadata": {},
     "output_type": "execute_result"
    }
   ],
   "source": [
    "a1.shape # shape returns the dimensions of the array"
   ]
  },
  {
   "cell_type": "code",
   "execution_count": 70,
   "id": "28455d70-c06e-466a-a6d4-41d6f8d73581",
   "metadata": {},
   "outputs": [
    {
     "data": {
      "text/plain": [
       "2"
      ]
     },
     "execution_count": 70,
     "metadata": {},
     "output_type": "execute_result"
    }
   ],
   "source": [
    "a1.ndim  # ndim returns the number of dimensions of the array"
   ]
  },
  {
   "cell_type": "code",
   "execution_count": 72,
   "id": "ccacbbc5-38a6-483c-9788-7f257fd04e28",
   "metadata": {},
   "outputs": [
    {
     "data": {
      "text/plain": [
       "dtype('int32')"
      ]
     },
     "execution_count": 72,
     "metadata": {},
     "output_type": "execute_result"
    }
   ],
   "source": [
    "a1.dtype # dtype returns the data type of the array elements"
   ]
  },
  {
   "cell_type": "code",
   "execution_count": 74,
   "id": "06c9dbf1-9fa4-4794-ae96-4b76fbc0857d",
   "metadata": {},
   "outputs": [
    {
     "data": {
      "text/plain": [
       "6"
      ]
     },
     "execution_count": 74,
     "metadata": {},
     "output_type": "execute_result"
    }
   ],
   "source": [
    "a1.size # size returns the total number of elements in the array"
   ]
  },
  {
   "cell_type": "markdown",
   "id": "ce67eabf-ba9c-4c8d-afe7-1bb5764bad44",
   "metadata": {},
   "source": [
    "**Accessing/Changing specific elements, rows, columns, etc.**"
   ]
  },
  {
   "cell_type": "code",
   "execution_count": 89,
   "id": "77b7c67a-42c6-4f3a-8e48-cb8b9e1d41c4",
   "metadata": {},
   "outputs": [],
   "source": [
    "a=([1,2,3,4,5,6,7],\n",
    "   [8,9,10,11,12,13,14],\n",
    "  [15,16,17,18,19,20,21],\n",
    "  [22,23,24,25,26,27,28])"
   ]
  },
  {
   "cell_type": "code",
   "execution_count": 90,
   "id": "f65cbe6a-9f0d-43e2-ba81-35250ce5d00f",
   "metadata": {},
   "outputs": [],
   "source": [
    "a=np.array(a)"
   ]
  },
  {
   "cell_type": "code",
   "execution_count": 91,
   "id": "abcd5c4d-42f7-4e20-90f9-814202b3fc67",
   "metadata": {},
   "outputs": [
    {
     "data": {
      "text/plain": [
       "array([[ 1,  2,  3,  4,  5,  6,  7],\n",
       "       [ 8,  9, 10, 11, 12, 13, 14],\n",
       "       [15, 16, 17, 18, 19, 20, 21],\n",
       "       [22, 23, 24, 25, 26, 27, 28]])"
      ]
     },
     "execution_count": 91,
     "metadata": {},
     "output_type": "execute_result"
    }
   ],
   "source": [
    "a"
   ]
  },
  {
   "cell_type": "markdown",
   "id": "d8e9ff0c-6285-436a-8ae5-af2d17f7f6c9",
   "metadata": {},
   "source": [
    "**Below is the Syntax for slicing**"
   ]
  },
  {
   "cell_type": "markdown",
   "id": "55c17b83-3ae6-4616-b95d-edaba54fde71",
   "metadata": {},
   "source": [
    "**a[row_start:row_end, col_start:col_end]** "
   ]
  },
  {
   "cell_type": "code",
   "execution_count": 93,
   "id": "56fe35b6-b1b5-46e9-8423-bda4c22a46a6",
   "metadata": {},
   "outputs": [
    {
     "data": {
      "text/plain": [
       "13"
      ]
     },
     "execution_count": 93,
     "metadata": {},
     "output_type": "execute_result"
    }
   ],
   "source": [
    "# a[row, col] will access the element at the specified row and column\n",
    "# For example, a[1, 5] accesses the 2nd row and 6th column, which is 13\n",
    "a[1,5]"
   ]
  },
  {
   "cell_type": "code",
   "execution_count": 94,
   "id": "c57b3ad7-8c30-4b05-b107-13b3c66ad203",
   "metadata": {},
   "outputs": [
    {
     "data": {
      "text/plain": [
       "array([1, 2, 3, 4, 5, 6, 7])"
      ]
     },
     "execution_count": 94,
     "metadata": {},
     "output_type": "execute_result"
    }
   ],
   "source": [
    "# Get a specific row \n",
    "a[0, :]"
   ]
  },
  {
   "cell_type": "code",
   "execution_count": 95,
   "id": "16b572d2-c516-47cd-a0fa-14209bfad276",
   "metadata": {},
   "outputs": [
    {
     "data": {
      "text/plain": [
       "array([[ 1,  2,  3,  4,  5,  6,  7],\n",
       "       [ 8,  9, 10, 11, 12, 13, 14],\n",
       "       [15, 16, 17, 18, 19, 20, 21],\n",
       "       [22, 23, 24, 25, 26, 27, 28]])"
      ]
     },
     "execution_count": 95,
     "metadata": {},
     "output_type": "execute_result"
    }
   ],
   "source": [
    "a[0:,]"
   ]
  },
  {
   "cell_type": "code",
   "execution_count": 97,
   "id": "3ef492ce-5c41-4bea-a651-ad2524703743",
   "metadata": {},
   "outputs": [
    {
     "data": {
      "text/plain": [
       "array([[ 2,  3,  4,  5],\n",
       "       [ 9, 10, 11, 12],\n",
       "       [16, 17, 18, 19]])"
      ]
     },
     "execution_count": 97,
     "metadata": {},
     "output_type": "execute_result"
    }
   ],
   "source": [
    "a[0:3,1:5]   #This will give rows 0 to 2 and columns 1 to 4"
   ]
  },
  {
   "cell_type": "code",
   "execution_count": 99,
   "id": "97e6d77d-1ede-4e5a-a8cc-3eb0db802f26",
   "metadata": {},
   "outputs": [
    {
     "data": {
      "text/plain": [
       "array([[ 1,  2,  3,  4,  5,  6,  7],\n",
       "       [ 8,  9, 10, 11, 12, 13, 14],\n",
       "       [15, 16, 17, 18, 19, 20, 21],\n",
       "       [22, 23, 24, 25, 26, 27, 28]])"
      ]
     },
     "execution_count": 99,
     "metadata": {},
     "output_type": "execute_result"
    }
   ],
   "source": [
    "a[:,:] #Will give everything!"
   ]
  },
  {
   "cell_type": "code",
   "execution_count": 101,
   "id": "b2a00394-aa1c-4395-b82e-e00978820816",
   "metadata": {},
   "outputs": [
    {
     "data": {
      "text/plain": [
       "array([[ 2,  3],\n",
       "       [ 9, 10],\n",
       "       [16, 17],\n",
       "       [23, 24]])"
      ]
     },
     "execution_count": 101,
     "metadata": {},
     "output_type": "execute_result"
    }
   ],
   "source": [
    "# Getting a specific column\n",
    "a[:,1:3]"
   ]
  },
  {
   "cell_type": "markdown",
   "id": "0c194eb9-4b1c-4f79-b75c-9eba5410064d",
   "metadata": {},
   "source": [
    "**Using Stepsize**<br>\n",
    "**Syntax: a[row_start:row_end:row_step, col_start:col_end:col_step]**"
   ]
  },
  {
   "cell_type": "code",
   "execution_count": 104,
   "id": "47ff8640-1e84-4613-a53a-735c4c3bacb4",
   "metadata": {},
   "outputs": [
    {
     "data": {
      "text/plain": [
       "array([2, 4, 6])"
      ]
     },
     "execution_count": 104,
     "metadata": {},
     "output_type": "execute_result"
    }
   ],
   "source": [
    "a[0, 1:-1:2]"
   ]
  },
  {
   "cell_type": "code",
   "execution_count": 105,
   "id": "59e576d0-1591-4780-83cc-629bcb5f9b5c",
   "metadata": {},
   "outputs": [
    {
     "data": {
      "text/plain": [
       "array([2, 4, 6])"
      ]
     },
     "execution_count": 105,
     "metadata": {},
     "output_type": "execute_result"
    }
   ],
   "source": [
    "a[0,1::2]"
   ]
  },
  {
   "cell_type": "markdown",
   "id": "bd94f7be-2f4a-4f0c-95c1-5533b23a98b7",
   "metadata": {},
   "source": [
    "**Replacing values using slicing**"
   ]
  },
  {
   "cell_type": "code",
   "execution_count": 111,
   "id": "cf6b7745-5ebf-4e97-aec9-6f6acbfc10b9",
   "metadata": {},
   "outputs": [
    {
     "data": {
      "text/plain": [
       "array([[  1,   2,   1,   4,   5,   6, 101],\n",
       "       [  8,   9,   2,  11,  12, 100, 102],\n",
       "       [ 15,  16,   3,  18,  19,  20, 103],\n",
       "       [ 22,  23,   4,  25,  26,  27, 104]])"
      ]
     },
     "execution_count": 111,
     "metadata": {},
     "output_type": "execute_result"
    }
   ],
   "source": [
    "a[1,5]=100\n",
    "a"
   ]
  },
  {
   "cell_type": "code",
   "execution_count": 112,
   "id": "9735c360-64b8-4ecb-a91a-d2b6956d37a7",
   "metadata": {},
   "outputs": [
    {
     "data": {
      "text/plain": [
       "array([[  1,   2,   1,   4,   5,   6, 101],\n",
       "       [  8,   9,   2,  11,  12, 100, 102],\n",
       "       [ 15,  16,   3,  18,  19,  20, 103],\n",
       "       [ 22,  23,   4,  25,  26,  27, 104]])"
      ]
     },
     "execution_count": 112,
     "metadata": {},
     "output_type": "execute_result"
    }
   ],
   "source": [
    "a[:,-1]=[101,102,103,104]\n",
    "a"
   ]
  },
  {
   "cell_type": "markdown",
   "id": "942a164f-4ebf-4601-856b-55d6619ad972",
   "metadata": {},
   "source": [
    "**Using a 3D Array**"
   ]
  },
  {
   "cell_type": "code",
   "execution_count": 119,
   "id": "75929451-a528-4acd-8035-9efc29fca4ad",
   "metadata": {},
   "outputs": [
    {
     "data": {
      "text/plain": [
       "array([[[1, 2],\n",
       "        [3, 4]],\n",
       "\n",
       "       [[5, 6],\n",
       "        [7, 8]]])"
      ]
     },
     "execution_count": 119,
     "metadata": {},
     "output_type": "execute_result"
    }
   ],
   "source": [
    "b = np.array([[[1, 2], [3, 4]], [[5, 6], [7, 8]]])\n",
    "b"
   ]
  },
  {
   "cell_type": "code",
   "execution_count": 120,
   "id": "03cec6c7-788f-4401-842f-33e0908b295b",
   "metadata": {},
   "outputs": [
    {
     "data": {
      "text/plain": [
       "array([3, 7])"
      ]
     },
     "execution_count": 120,
     "metadata": {},
     "output_type": "execute_result"
    }
   ],
   "source": [
    "b[0:2,1,0]"
   ]
  },
  {
   "cell_type": "markdown",
   "id": "fbb6be85-aa33-40dd-a40c-d9986cc33f78",
   "metadata": {},
   "source": [
    "**Introduction to Different Types of Arrays in NumPy**"
   ]
  },
  {
   "cell_type": "code",
   "execution_count": 121,
   "id": "c6bcbc79-850b-4549-a7e2-e7a50051b8ab",
   "metadata": {},
   "outputs": [
    {
     "data": {
      "text/plain": [
       "array([[1., 1.],\n",
       "       [1., 1.],\n",
       "       [1., 1.]])"
      ]
     },
     "execution_count": 121,
     "metadata": {},
     "output_type": "execute_result"
    }
   ],
   "source": [
    "np.ones((3,2))"
   ]
  },
  {
   "cell_type": "code",
   "execution_count": 122,
   "id": "5ff08c58-7aa4-4fd6-a5f3-e863ae2dd542",
   "metadata": {},
   "outputs": [
    {
     "data": {
      "text/plain": [
       "array([[0., 0., 0.],\n",
       "       [0., 0., 0.]])"
      ]
     },
     "execution_count": 122,
     "metadata": {},
     "output_type": "execute_result"
    }
   ],
   "source": [
    "np.zeros((2,3))"
   ]
  },
  {
   "cell_type": "code",
   "execution_count": 126,
   "id": "70cdeed6-71b3-4469-becf-85712bd07125",
   "metadata": {},
   "outputs": [
    {
     "data": {
      "text/plain": [
       "array([[99, 99],\n",
       "       [99, 99]])"
      ]
     },
     "execution_count": 126,
     "metadata": {},
     "output_type": "execute_result"
    }
   ],
   "source": [
    "np.full((2,2),99)  # Will make an array with shape(2,2) and fills all with 99"
   ]
  },
  {
   "cell_type": "code",
   "execution_count": 127,
   "id": "25205486-67cf-4429-9438-e0c06a4b9233",
   "metadata": {},
   "outputs": [
    {
     "data": {
      "text/plain": [
       "array([[3, 3, 3, 3, 3, 3, 3],\n",
       "       [3, 3, 3, 3, 3, 3, 3],\n",
       "       [3, 3, 3, 3, 3, 3, 3],\n",
       "       [3, 3, 3, 3, 3, 3, 3]])"
      ]
     },
     "execution_count": 127,
     "metadata": {},
     "output_type": "execute_result"
    }
   ],
   "source": [
    "np.full_like(a,3)  # Creating a new array with the same shape as 'a' and fill it with 4"
   ]
  },
  {
   "cell_type": "code",
   "execution_count": 129,
   "id": "9cbce4f8-2703-4e7b-a779-5f2be15c99f9",
   "metadata": {},
   "outputs": [
    {
     "data": {
      "text/plain": [
       "array([[0.80293   , 0.32119183, 0.47639153],\n",
       "       [0.97538266, 0.19284875, 0.11802698],\n",
       "       [0.54458702, 0.80243906, 0.27737621]])"
      ]
     },
     "execution_count": 129,
     "metadata": {},
     "output_type": "execute_result"
    }
   ],
   "source": [
    "# Creating Random decimal numbers\n",
    "np.random.rand(3,3)"
   ]
  },
  {
   "cell_type": "code",
   "execution_count": 134,
   "id": "9c776146-b67c-4889-8b90-2418f22008e5",
   "metadata": {},
   "outputs": [
    {
     "data": {
      "text/plain": [
       "3"
      ]
     },
     "execution_count": 134,
     "metadata": {},
     "output_type": "execute_result"
    }
   ],
   "source": [
    "np.random.randint(0, 10)  #Without using size it'll give random integer in the range that is being mentioned"
   ]
  },
  {
   "cell_type": "code",
   "execution_count": 135,
   "id": "678620c5-2c3e-4f35-9483-5b08c1425d4e",
   "metadata": {},
   "outputs": [
    {
     "data": {
      "text/plain": [
       "array([[17, 14, 13],\n",
       "       [15, 13, 15]])"
      ]
     },
     "execution_count": 135,
     "metadata": {},
     "output_type": "execute_result"
    }
   ],
   "source": [
    "# Using randint with size \n",
    "np.random.randint(10,20,size=(2,3))"
   ]
  },
  {
   "cell_type": "code",
   "execution_count": 137,
   "id": "30734168-c43f-4897-9ec0-b66b6366aa4c",
   "metadata": {},
   "outputs": [
    {
     "data": {
      "text/plain": [
       "array([[1., 0., 0.],\n",
       "       [0., 1., 0.],\n",
       "       [0., 0., 1.]])"
      ]
     },
     "execution_count": 137,
     "metadata": {},
     "output_type": "execute_result"
    }
   ],
   "source": [
    "# Identity matrix: square matrix with 1s on the diagonal and 0s elsewhere. Creates a 3x3 matrix. Identity uses 2d arrays only\n",
    "\n",
    "np.identity(3)"
   ]
  },
  {
   "cell_type": "code",
   "execution_count": 143,
   "id": "a50783bc-6900-44fc-a88b-9438d853b726",
   "metadata": {},
   "outputs": [],
   "source": [
    "# Repeating an array\n",
    "# # Repeat the elements of 'arr' 3 times along the first axis (rows)"
   ]
  },
  {
   "cell_type": "code",
   "execution_count": 144,
   "id": "6de4983a-ce6e-44cb-8326-fc36f12e90ac",
   "metadata": {},
   "outputs": [
    {
     "data": {
      "text/plain": [
       "array([[1, 2, 3]])"
      ]
     },
     "execution_count": 144,
     "metadata": {},
     "output_type": "execute_result"
    }
   ],
   "source": [
    "arr = np.array([[1,2,3]])\n",
    "arr"
   ]
  },
  {
   "cell_type": "code",
   "execution_count": 146,
   "id": "96615f3b-c424-435b-952d-4ae761149a96",
   "metadata": {},
   "outputs": [
    {
     "data": {
      "text/plain": [
       "array([[1, 2, 3],\n",
       "       [1, 2, 3],\n",
       "       [1, 2, 3]])"
      ]
     },
     "execution_count": 146,
     "metadata": {},
     "output_type": "execute_result"
    }
   ],
   "source": [
    "r1 = np.repeat(arr,3, axis=0)\n",
    "r1"
   ]
  },
  {
   "cell_type": "code",
   "execution_count": 147,
   "id": "aef6652b-c0db-4518-a667-8e9423c48044",
   "metadata": {},
   "outputs": [
    {
     "data": {
      "text/plain": [
       "array([[1, 1, 1, 2, 2, 2, 3, 3, 3]])"
      ]
     },
     "execution_count": 147,
     "metadata": {},
     "output_type": "execute_result"
    }
   ],
   "source": [
    "r1 = np.repeat(arr,3, axis=1)\n",
    "r1"
   ]
  },
  {
   "cell_type": "code",
   "execution_count": 149,
   "id": "a13d7fba-ad54-4ce0-a9c8-f3024c67a196",
   "metadata": {},
   "outputs": [
    {
     "data": {
      "text/plain": [
       "array([[1., 1., 1., 1., 1.],\n",
       "       [1., 1., 1., 1., 1.],\n",
       "       [1., 1., 1., 1., 1.],\n",
       "       [1., 1., 1., 1., 1.],\n",
       "       [1., 1., 1., 1., 1.]])"
      ]
     },
     "execution_count": 149,
     "metadata": {},
     "output_type": "execute_result"
    }
   ],
   "source": [
    "a1=np.ones((5,5))\n",
    "a1"
   ]
  },
  {
   "cell_type": "code",
   "execution_count": 150,
   "id": "cea16092-40c9-42ae-901e-3dc895a00301",
   "metadata": {},
   "outputs": [
    {
     "data": {
      "text/plain": [
       "array([[0., 0., 0.],\n",
       "       [0., 0., 0.],\n",
       "       [0., 0., 0.]])"
      ]
     },
     "execution_count": 150,
     "metadata": {},
     "output_type": "execute_result"
    }
   ],
   "source": [
    "a2=np.zeros((3,3))\n",
    "a2"
   ]
  },
  {
   "cell_type": "code",
   "execution_count": 151,
   "id": "d5fa9337-f2d8-44c8-935c-3803cd050d48",
   "metadata": {},
   "outputs": [],
   "source": [
    "a2[1,1]=9"
   ]
  },
  {
   "cell_type": "code",
   "execution_count": 152,
   "id": "ccdeaac6-00ec-4d77-8bc3-8788afc3b880",
   "metadata": {},
   "outputs": [
    {
     "data": {
      "text/plain": [
       "array([[0., 0., 0.],\n",
       "       [0., 9., 0.],\n",
       "       [0., 0., 0.]])"
      ]
     },
     "execution_count": 152,
     "metadata": {},
     "output_type": "execute_result"
    }
   ],
   "source": [
    "a2"
   ]
  },
  {
   "cell_type": "code",
   "execution_count": 153,
   "id": "8101b9d0-fa7a-44bd-a769-437b73b9ae45",
   "metadata": {},
   "outputs": [
    {
     "data": {
      "text/plain": [
       "array([[1., 1., 1.],\n",
       "       [1., 1., 1.],\n",
       "       [1., 1., 1.]])"
      ]
     },
     "execution_count": 153,
     "metadata": {},
     "output_type": "execute_result"
    }
   ],
   "source": [
    "a1[1:-1,1:-1]"
   ]
  },
  {
   "cell_type": "code",
   "execution_count": 156,
   "id": "c282f45c-100f-4feb-9105-216bc5e49b58",
   "metadata": {},
   "outputs": [
    {
     "data": {
      "text/plain": [
       "array([[1., 1., 1., 1., 1.],\n",
       "       [1., 0., 0., 0., 1.],\n",
       "       [1., 0., 9., 0., 1.],\n",
       "       [1., 0., 0., 0., 1.],\n",
       "       [1., 1., 1., 1., 1.]])"
      ]
     },
     "execution_count": 156,
     "metadata": {},
     "output_type": "execute_result"
    }
   ],
   "source": [
    "a1[1:-1,1:-1]=a2\n",
    "a1"
   ]
  },
  {
   "cell_type": "markdown",
   "id": "9a6618e1-7d1c-4059-9a59-a976c1d1ac1b",
   "metadata": {},
   "source": [
    "**Copying arrays**"
   ]
  },
  {
   "cell_type": "code",
   "execution_count": 159,
   "id": "874779ba-d7fa-4d57-9385-dc8ed9450329",
   "metadata": {},
   "outputs": [
    {
     "name": "stdout",
     "output_type": "stream",
     "text": [
      "[100   2   3]\n"
     ]
    },
    {
     "data": {
      "text/plain": [
       "array([1, 2, 3])"
      ]
     },
     "execution_count": 159,
     "metadata": {},
     "output_type": "execute_result"
    }
   ],
   "source": [
    "a = np.array([1,2,3])\n",
    "b = a.copy()\n",
    "b[0] = 100\n",
    "print(b)\n",
    "a"
   ]
  },
  {
   "cell_type": "markdown",
   "id": "bd227a67-0ef4-475e-95a8-ecee3a4a772f",
   "metadata": {},
   "source": [
    "**Mathematics**"
   ]
  },
  {
   "cell_type": "code",
   "execution_count": 160,
   "id": "0f3fa657-64ba-43f1-8a9f-9463b6bc053a",
   "metadata": {},
   "outputs": [
    {
     "name": "stdout",
     "output_type": "stream",
     "text": [
      "[1 2 3 4]\n"
     ]
    }
   ],
   "source": [
    "a = np.array([1,2,3,4])\n",
    "print(a)"
   ]
  },
  {
   "cell_type": "code",
   "execution_count": 161,
   "id": "37141c51-178a-42d1-b0cd-39769901d161",
   "metadata": {},
   "outputs": [
    {
     "data": {
      "text/plain": [
       "array([3, 4, 5, 6])"
      ]
     },
     "execution_count": 161,
     "metadata": {},
     "output_type": "execute_result"
    }
   ],
   "source": [
    "a+2"
   ]
  },
  {
   "cell_type": "code",
   "execution_count": 162,
   "id": "2c6f01d7-3e79-493f-a8d7-49e151f6c667",
   "metadata": {},
   "outputs": [
    {
     "data": {
      "text/plain": [
       "array([-1,  0,  1,  2])"
      ]
     },
     "execution_count": 162,
     "metadata": {},
     "output_type": "execute_result"
    }
   ],
   "source": [
    "a-2"
   ]
  },
  {
   "cell_type": "code",
   "execution_count": 163,
   "id": "8376b812-c8ca-46ee-98fd-ea67968d2de9",
   "metadata": {},
   "outputs": [
    {
     "data": {
      "text/plain": [
       "array([0.5, 1. , 1.5, 2. ])"
      ]
     },
     "execution_count": 163,
     "metadata": {},
     "output_type": "execute_result"
    }
   ],
   "source": [
    "a/2"
   ]
  },
  {
   "cell_type": "code",
   "execution_count": 164,
   "id": "bfd48ed6-435d-4c0a-a325-3803cc6ed8b7",
   "metadata": {},
   "outputs": [
    {
     "data": {
      "text/plain": [
       "array([2, 4, 6, 8])"
      ]
     },
     "execution_count": 164,
     "metadata": {},
     "output_type": "execute_result"
    }
   ],
   "source": [
    "a*2"
   ]
  },
  {
   "cell_type": "code",
   "execution_count": 166,
   "id": "1ced7e7a-3ccf-42e2-8b06-538e91da9778",
   "metadata": {},
   "outputs": [
    {
     "data": {
      "text/plain": [
       "array([1, 0, 1, 0])"
      ]
     },
     "execution_count": 166,
     "metadata": {},
     "output_type": "execute_result"
    }
   ],
   "source": [
    "b=np.array([1,0,1,0])\n",
    "b"
   ]
  },
  {
   "cell_type": "code",
   "execution_count": 167,
   "id": "5dc78aa5-0b84-4323-b3f1-76086a9daf0e",
   "metadata": {},
   "outputs": [
    {
     "data": {
      "text/plain": [
       "array([2, 2, 4, 4])"
      ]
     },
     "execution_count": 167,
     "metadata": {},
     "output_type": "execute_result"
    }
   ],
   "source": [
    "a+b"
   ]
  },
  {
   "cell_type": "code",
   "execution_count": 168,
   "id": "6b569934-9467-4714-93c0-bdb716ce500b",
   "metadata": {},
   "outputs": [
    {
     "data": {
      "text/plain": [
       "array([ 1,  4,  9, 16])"
      ]
     },
     "execution_count": 168,
     "metadata": {},
     "output_type": "execute_result"
    }
   ],
   "source": [
    "a**2"
   ]
  },
  {
   "cell_type": "code",
   "execution_count": 170,
   "id": "9fa9756e-b343-482f-b1c1-16086a6e2b8b",
   "metadata": {},
   "outputs": [
    {
     "data": {
      "text/plain": [
       "array([ 0.54030231, -0.41614684, -0.9899925 , -0.65364362])"
      ]
     },
     "execution_count": 170,
     "metadata": {},
     "output_type": "execute_result"
    }
   ],
   "source": [
    "np.cos(a)"
   ]
  },
  {
   "cell_type": "markdown",
   "id": "2640658d-72ef-4588-97bb-9320851d1fff",
   "metadata": {},
   "source": [
    "**Linear Algebra**"
   ]
  },
  {
   "cell_type": "code",
   "execution_count": 172,
   "id": "b8fb1d2c-bebf-4a96-bdc6-067ce40f8e6b",
   "metadata": {},
   "outputs": [
    {
     "name": "stdout",
     "output_type": "stream",
     "text": [
      "[[1. 1. 1.]\n",
      " [1. 1. 1.]]\n",
      "\n",
      "[[2 2]\n",
      " [2 2]\n",
      " [2 2]]\n",
      "\n"
     ]
    },
    {
     "data": {
      "text/plain": [
       "array([[6., 6.],\n",
       "       [6., 6.]])"
      ]
     },
     "execution_count": 172,
     "metadata": {},
     "output_type": "execute_result"
    }
   ],
   "source": [
    "a = np.ones((2,3))\n",
    "print(a)\n",
    "print()\n",
    "\n",
    "b = np.full((3,2), 2)\n",
    "print(b)\n",
    "print()\n",
    "\n",
    "np.matmul(a,b)"
   ]
  },
  {
   "cell_type": "code",
   "execution_count": 174,
   "id": "445fd1a4-63bb-4996-8070-883377b8bdb0",
   "metadata": {},
   "outputs": [
    {
     "data": {
      "text/plain": [
       "1.0"
      ]
     },
     "execution_count": 174,
     "metadata": {},
     "output_type": "execute_result"
    }
   ],
   "source": [
    "# Finding the determinant\n",
    "# Output will be 1.0, because the determinant of an identity matrix is always 1\n",
    "\n",
    "c = np.identity(3)\n",
    "np.linalg.det(c)"
   ]
  },
  {
   "cell_type": "markdown",
   "id": "087ee734-07e3-440e-86a6-d6ea4fd4f908",
   "metadata": {},
   "source": [
    "**Statistics**"
   ]
  },
  {
   "cell_type": "code",
   "execution_count": 175,
   "id": "33310067-35c7-4cfa-88d9-5c51ac62be4d",
   "metadata": {},
   "outputs": [
    {
     "data": {
      "text/plain": [
       "array([[1, 2, 3],\n",
       "       [4, 5, 6]])"
      ]
     },
     "execution_count": 175,
     "metadata": {},
     "output_type": "execute_result"
    }
   ],
   "source": [
    "s=np.array([[1,2,3],[4,5,6]])\n",
    "s"
   ]
  },
  {
   "cell_type": "code",
   "execution_count": 176,
   "id": "8b9fccba-50c4-4774-9f53-9dc5a511c255",
   "metadata": {},
   "outputs": [
    {
     "name": "stdout",
     "output_type": "stream",
     "text": [
      "1\n",
      "6\n"
     ]
    }
   ],
   "source": [
    "print(np.min(s))\n",
    "print(np.max(s))"
   ]
  },
  {
   "cell_type": "code",
   "execution_count": 178,
   "id": "cb3f1b19-11e9-4aec-8a2f-d6c204c94656",
   "metadata": {},
   "outputs": [
    {
     "name": "stdout",
     "output_type": "stream",
     "text": [
      "[3 6]\n",
      "\n",
      "[5 7 9]\n"
     ]
    }
   ],
   "source": [
    "print(np.max(s, axis=1))\n",
    "print()\n",
    "print(np.sum(s, axis=0))"
   ]
  },
  {
   "cell_type": "markdown",
   "id": "2e2d1d59-b117-4cc2-8c7a-fa2129972f4a",
   "metadata": {},
   "source": [
    "**Reorganizing Arrays**"
   ]
  },
  {
   "cell_type": "code",
   "execution_count": 184,
   "id": "02f8d046-e1aa-474e-adc8-852ccf9c3dbd",
   "metadata": {},
   "outputs": [],
   "source": [
    "# Below it will raise an error because reshaping a 2x4 array to 2x3 is not possible"
   ]
  },
  {
   "cell_type": "code",
   "execution_count": 185,
   "id": "d9bd76eb-d32e-47bb-a63f-a50f3e033e15",
   "metadata": {},
   "outputs": [
    {
     "name": "stdout",
     "output_type": "stream",
     "text": [
      "[[1 2 3 4]\n",
      " [5 6 7 8]]\n"
     ]
    },
    {
     "ename": "ValueError",
     "evalue": "cannot reshape array of size 8 into shape (2,3)",
     "output_type": "error",
     "traceback": [
      "\u001b[1;31m---------------------------------------------------------------------------\u001b[0m",
      "\u001b[1;31mValueError\u001b[0m                                Traceback (most recent call last)",
      "Cell \u001b[1;32mIn[185], line 4\u001b[0m\n\u001b[0;32m      1\u001b[0m before \u001b[38;5;241m=\u001b[39m np\u001b[38;5;241m.\u001b[39marray([[\u001b[38;5;241m1\u001b[39m,\u001b[38;5;241m2\u001b[39m,\u001b[38;5;241m3\u001b[39m,\u001b[38;5;241m4\u001b[39m],[\u001b[38;5;241m5\u001b[39m,\u001b[38;5;241m6\u001b[39m,\u001b[38;5;241m7\u001b[39m,\u001b[38;5;241m8\u001b[39m]])\n\u001b[0;32m      2\u001b[0m \u001b[38;5;28mprint\u001b[39m(before)\n\u001b[1;32m----> 4\u001b[0m after \u001b[38;5;241m=\u001b[39m \u001b[43mbefore\u001b[49m\u001b[38;5;241;43m.\u001b[39;49m\u001b[43mreshape\u001b[49m\u001b[43m(\u001b[49m\u001b[43m(\u001b[49m\u001b[38;5;241;43m2\u001b[39;49m\u001b[43m,\u001b[49m\u001b[38;5;241;43m3\u001b[39;49m\u001b[43m)\u001b[49m\u001b[43m)\u001b[49m\n\u001b[0;32m      5\u001b[0m \u001b[38;5;28mprint\u001b[39m(after)\n",
      "\u001b[1;31mValueError\u001b[0m: cannot reshape array of size 8 into shape (2,3)"
     ]
    }
   ],
   "source": [
    "before = np.array([[1,2,3,4],[5,6,7,8]])\n",
    "print(before)\n",
    "\n",
    "after = before.reshape((2,3))\n",
    "print(after)"
   ]
  },
  {
   "cell_type": "code",
   "execution_count": 186,
   "id": "47374b32-7e43-41d1-9c53-25c7b03a8173",
   "metadata": {},
   "outputs": [],
   "source": [
    "# The total number of elements in the original array must match the total number of elements in the reshaped array"
   ]
  },
  {
   "cell_type": "code",
   "execution_count": 187,
   "id": "ffba42ea-cff5-4b2a-8dfb-bc9da5e227a7",
   "metadata": {},
   "outputs": [
    {
     "data": {
      "text/plain": [
       "array([[1, 2],\n",
       "       [3, 4],\n",
       "       [5, 6],\n",
       "       [7, 8]])"
      ]
     },
     "execution_count": 187,
     "metadata": {},
     "output_type": "execute_result"
    }
   ],
   "source": [
    "after=before.reshape((4,2))\n",
    "after"
   ]
  },
  {
   "cell_type": "code",
   "execution_count": 188,
   "id": "22cc0ba8-1e62-426d-a164-8241ed089b95",
   "metadata": {},
   "outputs": [
    {
     "data": {
      "text/plain": [
       "array([[1, 2, 3, 4],\n",
       "       [5, 6, 7, 8]])"
      ]
     },
     "execution_count": 188,
     "metadata": {},
     "output_type": "execute_result"
    }
   ],
   "source": [
    "# Vertically stacking vectors\n",
    "\n",
    "\n",
    "v1 = np.array([1,2,3,4])\n",
    "v2 = np.array([5,6,7,8])\n",
    "\n",
    "np.vstack([v1,v2])"
   ]
  },
  {
   "cell_type": "code",
   "execution_count": 189,
   "id": "0a0b5334-7d21-4a04-b2c3-11f19296b3a5",
   "metadata": {},
   "outputs": [
    {
     "data": {
      "text/plain": [
       "array([[1, 2, 3, 4],\n",
       "       [5, 6, 7, 8],\n",
       "       [1, 2, 3, 4],\n",
       "       [5, 6, 7, 8]])"
      ]
     },
     "execution_count": 189,
     "metadata": {},
     "output_type": "execute_result"
    }
   ],
   "source": [
    "# Vertically stacking vectors\n",
    "\n",
    "v1 = np.array([1,2,3,4])\n",
    "v2 = np.array([5,6,7,8])\n",
    "\n",
    "np.vstack([v1,v2,v1,v2])"
   ]
  },
  {
   "cell_type": "code",
   "execution_count": 190,
   "id": "65f9a6f6-7172-4f09-9bae-79f3cdcc97da",
   "metadata": {},
   "outputs": [
    {
     "data": {
      "text/plain": [
       "array([[1., 1., 1., 1., 0., 0.],\n",
       "       [1., 1., 1., 1., 0., 0.]])"
      ]
     },
     "execution_count": 190,
     "metadata": {},
     "output_type": "execute_result"
    }
   ],
   "source": [
    "# Horizontal  stack\n",
    "\n",
    "h1 = np.ones((2,4))\n",
    "h2 = np.zeros((2,2))\n",
    "\n",
    "np.hstack((h1,h2))"
   ]
  },
  {
   "cell_type": "code",
   "execution_count": null,
   "id": "0bd7b213-96df-407a-b981-f9052163eaea",
   "metadata": {},
   "outputs": [],
   "source": []
  }
 ],
 "metadata": {
  "kernelspec": {
   "display_name": "Python 3 (ipykernel)",
   "language": "python",
   "name": "python3"
  },
  "language_info": {
   "codemirror_mode": {
    "name": "ipython",
    "version": 3
   },
   "file_extension": ".py",
   "mimetype": "text/x-python",
   "name": "python",
   "nbconvert_exporter": "python",
   "pygments_lexer": "ipython3",
   "version": "3.12.4"
  }
 },
 "nbformat": 4,
 "nbformat_minor": 5
}
