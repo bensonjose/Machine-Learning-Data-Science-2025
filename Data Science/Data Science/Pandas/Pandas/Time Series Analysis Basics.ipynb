{
 "cells": [
  {
   "cell_type": "markdown",
   "id": "a2db0672-bd98-44c0-8e36-ea9e3a7377d7",
   "metadata": {},
   "source": [
    "## Time Series Analysis"
   ]
  },
  {
   "cell_type": "code",
   "execution_count": 23,
   "id": "7c0ff8fa-61a5-44a5-a648-e31f194c8df9",
   "metadata": {},
   "outputs": [],
   "source": [
    "import pandas as pd\n",
    "import numpy as np\n",
    "from datetime import datetime"
   ]
  },
  {
   "cell_type": "code",
   "execution_count": 24,
   "id": "a816498f-80e2-4fa0-ba93-ca0e1acd94f3",
   "metadata": {},
   "outputs": [],
   "source": [
    "date=[datetime(2020,1,5),\n",
    "         datetime(2020,1,10),\n",
    "         datetime(2020,1,15),\n",
    "         datetime(2020,1,20),\n",
    "          datetime(2020,1,25)]"
   ]
  },
  {
   "cell_type": "code",
   "execution_count": 25,
   "id": "a17cdf17-f83d-42a6-b1b4-fea86b6ea64b",
   "metadata": {},
   "outputs": [
    {
     "data": {
      "text/plain": [
       "[datetime.datetime(2020, 1, 5, 0, 0),\n",
       " datetime.datetime(2020, 1, 10, 0, 0),\n",
       " datetime.datetime(2020, 1, 15, 0, 0),\n",
       " datetime.datetime(2020, 1, 20, 0, 0),\n",
       " datetime.datetime(2020, 1, 25, 0, 0)]"
      ]
     },
     "execution_count": 25,
     "metadata": {},
     "output_type": "execute_result"
    }
   ],
   "source": [
    "date"
   ]
  },
  {
   "cell_type": "code",
   "execution_count": 26,
   "id": "194f1e46-aa8c-4154-a313-841cbba30385",
   "metadata": {},
   "outputs": [],
   "source": [
    "ts=pd.Series(np.random.randn(5))"
   ]
  },
  {
   "cell_type": "code",
   "execution_count": 27,
   "id": "2c732036-3c94-401d-9499-35cc0582913e",
   "metadata": {},
   "outputs": [
    {
     "data": {
      "text/plain": [
       "0    0.965983\n",
       "1   -0.631948\n",
       "2   -0.377389\n",
       "3    0.960195\n",
       "4   -0.069956\n",
       "dtype: float64"
      ]
     },
     "execution_count": 27,
     "metadata": {},
     "output_type": "execute_result"
    }
   ],
   "source": [
    "ts"
   ]
  },
  {
   "cell_type": "code",
   "execution_count": 28,
   "id": "6d4529be-701f-41fe-a759-c31b82fc03c5",
   "metadata": {},
   "outputs": [],
   "source": [
    "ts=pd.Series(np.random.randn(5),index=date)"
   ]
  },
  {
   "cell_type": "code",
   "execution_count": 29,
   "id": "bd2698a0-5896-4b28-b786-1de52ab8d589",
   "metadata": {},
   "outputs": [
    {
     "data": {
      "text/plain": [
       "2020-01-05    2.080772\n",
       "2020-01-10   -0.497447\n",
       "2020-01-15    1.446559\n",
       "2020-01-20    0.098586\n",
       "2020-01-25   -0.293919\n",
       "dtype: float64"
      ]
     },
     "execution_count": 29,
     "metadata": {},
     "output_type": "execute_result"
    }
   ],
   "source": [
    "ts"
   ]
  },
  {
   "cell_type": "code",
   "execution_count": 30,
   "id": "41a2cbdb-7348-4f09-b645-522da5dbfecf",
   "metadata": {},
   "outputs": [
    {
     "data": {
      "text/plain": [
       "DatetimeIndex(['2020-01-05', '2020-01-10', '2020-01-15', '2020-01-20',\n",
       "               '2020-01-25'],\n",
       "              dtype='datetime64[ns]', freq=None)"
      ]
     },
     "execution_count": 30,
     "metadata": {},
     "output_type": "execute_result"
    }
   ],
   "source": [
    "ts.index"
   ]
  },
  {
   "cell_type": "markdown",
   "id": "e453633d-6a0d-4a43-ac6b-7536859fcb51",
   "metadata": {},
   "source": [
    "**Time Series Data Structures**"
   ]
  },
  {
   "cell_type": "code",
   "execution_count": 31,
   "id": "480c2bf2-2222-4247-bc27-70903d9a59e5",
   "metadata": {},
   "outputs": [
    {
     "data": {
      "text/plain": [
       "Timestamp('2020-01-01 00:00:00')"
      ]
     },
     "execution_count": 31,
     "metadata": {},
     "output_type": "execute_result"
    }
   ],
   "source": [
    "pd.to_datetime(\"01/01/2020\")"
   ]
  },
  {
   "cell_type": "code",
   "execution_count": 32,
   "id": "f208c580-e59c-4f21-ac72-1725e944caf0",
   "metadata": {},
   "outputs": [
    {
     "data": {
      "text/plain": [
       "DatetimeIndex(['2020-07-05', '2020-07-06', '2020-07-07', '2020-07-08'], dtype='datetime64[ns]', freq=None)"
      ]
     },
     "execution_count": 32,
     "metadata": {},
     "output_type": "execute_result"
    }
   ],
   "source": [
    "dates=pd.to_datetime(\n",
    "    [datetime(2020,7,5),\n",
    "     \"6th of July, 2020\",\n",
    "     \"2020-Jul-7\",\n",
    "     \"20200708\"])\n",
    "dates"
   ]
  },
  {
   "cell_type": "code",
   "execution_count": 34,
   "id": "2add9477-b6d5-435a-a256-0e3683a63829",
   "metadata": {},
   "outputs": [
    {
     "data": {
      "text/plain": [
       "PeriodIndex(['2020-07-05', '2020-07-06', '2020-07-07', '2020-07-08'], dtype='period[D]')"
      ]
     },
     "execution_count": 34,
     "metadata": {},
     "output_type": "execute_result"
    }
   ],
   "source": [
    "dates.to_period('D')"
   ]
  },
  {
   "cell_type": "code",
   "execution_count": 35,
   "id": "c844e1ef-1309-43f1-b75b-3525acfced4c",
   "metadata": {},
   "outputs": [
    {
     "data": {
      "text/plain": [
       "Timestamp('2020-07-05 00:00:00')"
      ]
     },
     "execution_count": 35,
     "metadata": {},
     "output_type": "execute_result"
    }
   ],
   "source": [
    "dates[0]"
   ]
  },
  {
   "cell_type": "code",
   "execution_count": 36,
   "id": "6cd0ca16-1ee2-4dce-9a79-8e6b845a70d9",
   "metadata": {},
   "outputs": [
    {
     "data": {
      "text/plain": [
       "TimedeltaIndex(['0 days', '1 days', '2 days', '3 days'], dtype='timedelta64[ns]', freq=None)"
      ]
     },
     "execution_count": 36,
     "metadata": {},
     "output_type": "execute_result"
    }
   ],
   "source": [
    "dates-dates[0]"
   ]
  },
  {
   "cell_type": "markdown",
   "id": "2aa23606-7454-45a2-8ef0-b663b6f1a488",
   "metadata": {},
   "source": [
    "## Creating a Time Series"
   ]
  },
  {
   "cell_type": "code",
   "execution_count": 38,
   "id": "1930fbeb-9f19-4fcb-a541-1957ff750e7e",
   "metadata": {},
   "outputs": [
    {
     "data": {
      "text/plain": [
       "DatetimeIndex(['2019-12-02', '2019-12-03', '2019-12-04', '2019-12-05',\n",
       "               '2019-12-06', '2019-12-07', '2019-12-08', '2019-12-09',\n",
       "               '2019-12-10', '2019-12-11', '2019-12-12', '2019-12-13',\n",
       "               '2019-12-14', '2019-12-15', '2019-12-16', '2019-12-17',\n",
       "               '2019-12-18', '2019-12-19', '2019-12-20', '2019-12-21',\n",
       "               '2019-12-22', '2019-12-23', '2019-12-24', '2019-12-25'],\n",
       "              dtype='datetime64[ns]', freq='D')"
      ]
     },
     "execution_count": 38,
     "metadata": {},
     "output_type": "execute_result"
    }
   ],
   "source": [
    "pd.date_range(\"12/2/2019\",\"12/25/2019\")"
   ]
  },
  {
   "cell_type": "code",
   "execution_count": 39,
   "id": "c19034d2-2442-4664-8669-ee3b72c6dfe7",
   "metadata": {},
   "outputs": [
    {
     "data": {
      "text/plain": [
       "DatetimeIndex(['2020-07-05', '2020-07-06', '2020-07-07', '2020-07-08'], dtype='datetime64[ns]', freq=None)"
      ]
     },
     "execution_count": 39,
     "metadata": {},
     "output_type": "execute_result"
    }
   ],
   "source": [
    "# Specify dates with dayfirst=True for DD/MM/YYYY format\n",
    "dates1 = pd.date_range(start=pd.to_datetime(\"2/12/2019\", dayfirst=True),\n",
    "                      end=pd.to_datetime(\"25/12/2019\", dayfirst=True))\n",
    "\n",
    "dates"
   ]
  },
  {
   "cell_type": "code",
   "execution_count": 40,
   "id": "9c958388-c8a8-4f8d-91b9-2769f8112626",
   "metadata": {},
   "outputs": [
    {
     "data": {
      "text/plain": [
       "DatetimeIndex(['2020-07-15', '2020-07-16', '2020-07-17', '2020-07-18',\n",
       "               '2020-07-19', '2020-07-20', '2020-07-21', '2020-07-22',\n",
       "               '2020-07-23', '2020-07-24'],\n",
       "              dtype='datetime64[ns]', freq='D')"
      ]
     },
     "execution_count": 40,
     "metadata": {},
     "output_type": "execute_result"
    }
   ],
   "source": [
    "pd.date_range('2020-07-15', periods=10)"
   ]
  },
  {
   "cell_type": "code",
   "execution_count": 56,
   "id": "218aeee8-84ac-4e69-8f3d-902f7c3388e6",
   "metadata": {},
   "outputs": [
    {
     "data": {
      "text/plain": [
       "DatetimeIndex(['2020-07-15 00:00:00', '2020-07-15 01:00:00',\n",
       "               '2020-07-15 02:00:00', '2020-07-15 03:00:00',\n",
       "               '2020-07-15 04:00:00', '2020-07-15 05:00:00',\n",
       "               '2020-07-15 06:00:00', '2020-07-15 07:00:00',\n",
       "               '2020-07-15 08:00:00', '2020-07-15 09:00:00'],\n",
       "              dtype='datetime64[ns]', freq='h')"
      ]
     },
     "execution_count": 56,
     "metadata": {},
     "output_type": "execute_result"
    }
   ],
   "source": [
    "pd.date_range(\"2020-07-15\",\n",
    "              periods=10,\n",
    "              freq=\"h\")"
   ]
  },
  {
   "cell_type": "code",
   "execution_count": 43,
   "id": "82c5cb3a-019d-4af4-8eb8-5aac289fcd6c",
   "metadata": {},
   "outputs": [
    {
     "data": {
      "text/plain": [
       "PeriodIndex(['2020-10', '2020-11', '2020-12', '2021-01', '2021-02', '2021-03',\n",
       "             '2021-04', '2021-05', '2021-06', '2021-07'],\n",
       "            dtype='period[M]')"
      ]
     },
     "execution_count": 43,
     "metadata": {},
     "output_type": "execute_result"
    }
   ],
   "source": [
    "pd.period_range(\"2020-10\", \n",
    "                periods=10,\n",
    "                freq=\"M\")"
   ]
  },
  {
   "cell_type": "code",
   "execution_count": 52,
   "id": "551dd2a5-a62c-4811-91b1-7a5716e4467a",
   "metadata": {},
   "outputs": [
    {
     "data": {
      "text/plain": [
       "TimedeltaIndex(['0 days 00:00:00', '0 days 01:00:00', '0 days 02:00:00',\n",
       "                '0 days 03:00:00', '0 days 04:00:00', '0 days 05:00:00',\n",
       "                '0 days 06:00:00', '0 days 07:00:00'],\n",
       "               dtype='timedelta64[ns]', freq='h')"
      ]
     },
     "execution_count": 52,
     "metadata": {},
     "output_type": "execute_result"
    }
   ],
   "source": [
    "pd.timedelta_range(0,periods=8,freq=\"h\")"
   ]
  },
  {
   "cell_type": "code",
   "execution_count": 53,
   "id": "45311689-3eac-4981-8818-c6c2e9fd46aa",
   "metadata": {},
   "outputs": [
    {
     "data": {
      "text/plain": [
       "Timestamp('2020-01-10 00:00:00')"
      ]
     },
     "execution_count": 53,
     "metadata": {},
     "output_type": "execute_result"
    }
   ],
   "source": [
    "stamp=ts.index[1]\n",
    "stamp"
   ]
  },
  {
   "cell_type": "code",
   "execution_count": 54,
   "id": "842dc772-c78f-407c-9cb8-79cfdc5622dd",
   "metadata": {},
   "outputs": [
    {
     "data": {
      "text/plain": [
       "-0.4974467290562969"
      ]
     },
     "execution_count": 54,
     "metadata": {},
     "output_type": "execute_result"
    }
   ],
   "source": [
    "ts[stamp]"
   ]
  },
  {
   "cell_type": "code",
   "execution_count": 58,
   "id": "27a9ae88-8730-4593-8c28-da1e56998c4d",
   "metadata": {},
   "outputs": [
    {
     "data": {
      "text/plain": [
       "-0.2939191101043038"
      ]
     },
     "execution_count": 58,
     "metadata": {},
     "output_type": "execute_result"
    }
   ],
   "source": [
    "ts[\"25.1.2020\"]"
   ]
  },
  {
   "cell_type": "code",
   "execution_count": 59,
   "id": "c2bc69d5-70d3-4d30-921c-6473b1bcd3da",
   "metadata": {},
   "outputs": [
    {
     "data": {
      "text/plain": [
       "-0.2939191101043038"
      ]
     },
     "execution_count": 59,
     "metadata": {},
     "output_type": "execute_result"
    }
   ],
   "source": [
    "ts[\"20200125\"]"
   ]
  },
  {
   "cell_type": "code",
   "execution_count": 61,
   "id": "a87fbc07-3c21-4b6d-bd1f-2ca6e460b22d",
   "metadata": {},
   "outputs": [
    {
     "data": {
      "text/plain": [
       "2020-01-01   -1.001817\n",
       "2020-01-02    0.488434\n",
       "2020-01-03   -0.194605\n",
       "2020-01-04   -0.089838\n",
       "2020-01-05    0.478526\n",
       "Freq: D, dtype: float64"
      ]
     },
     "execution_count": 61,
     "metadata": {},
     "output_type": "execute_result"
    }
   ],
   "source": [
    "long_ts=pd.Series(\n",
    "    np.random.randn(1000),\n",
    "    index=pd.date_range(\"1/1/2020\",\n",
    "                        periods=1000))\n",
    "long_ts.head()"
   ]
  },
  {
   "cell_type": "code",
   "execution_count": 62,
   "id": "2b03f01a-b78b-442a-a5e1-daf554111bbc",
   "metadata": {},
   "outputs": [
    {
     "data": {
      "text/plain": [
       "2020-01-01   -1.001817\n",
       "2020-01-02    0.488434\n",
       "2020-01-03   -0.194605\n",
       "2020-01-04   -0.089838\n",
       "2020-01-05    0.478526\n",
       "Freq: D, dtype: float64"
      ]
     },
     "execution_count": 62,
     "metadata": {},
     "output_type": "execute_result"
    }
   ],
   "source": [
    "long_ts[\"2020\"].head()"
   ]
  },
  {
   "cell_type": "code",
   "execution_count": 63,
   "id": "94446ab6-ae69-451e-8005-cc7c672db0e2",
   "metadata": {},
   "outputs": [
    {
     "data": {
      "text/plain": [
       "2020-10-01    0.203914\n",
       "2020-10-02   -0.486768\n",
       "2020-10-03    2.026267\n",
       "2020-10-04    1.277859\n",
       "2020-10-05   -1.193348\n",
       "2020-10-06    0.397402\n",
       "2020-10-07    1.613501\n",
       "2020-10-08   -1.521845\n",
       "2020-10-09    0.491278\n",
       "2020-10-10   -1.142572\n",
       "2020-10-11    1.338760\n",
       "2020-10-12   -2.007578\n",
       "2020-10-13   -0.396028\n",
       "2020-10-14   -0.150378\n",
       "2020-10-15    0.533437\n",
       "Freq: D, dtype: float64"
      ]
     },
     "execution_count": 63,
     "metadata": {},
     "output_type": "execute_result"
    }
   ],
   "source": [
    "long_ts[\"2020-10\"].head(15)"
   ]
  },
  {
   "cell_type": "markdown",
   "id": "4905492b-d741-448b-b766-862cb627fd57",
   "metadata": {},
   "source": [
    "**Important Methods in Time Series**"
   ]
  },
  {
   "cell_type": "code",
   "execution_count": 64,
   "id": "f8e09540-4bf8-4992-a0de-40411b2b4f9f",
   "metadata": {},
   "outputs": [
    {
     "data": {
      "text/plain": [
       "2020-01-05    2.080772\n",
       "2020-01-10   -0.497447\n",
       "2020-01-15    1.446559\n",
       "2020-01-20    0.098586\n",
       "2020-01-25   -0.293919\n",
       "dtype: float64"
      ]
     },
     "execution_count": 64,
     "metadata": {},
     "output_type": "execute_result"
    }
   ],
   "source": [
    "ts"
   ]
  },
  {
   "cell_type": "code",
   "execution_count": 65,
   "id": "aef4f82b-aa5d-4583-9cd0-15a89fdddb46",
   "metadata": {},
   "outputs": [
    {
     "data": {
      "text/plain": [
       "2020-01-05    2.080772\n",
       "2020-01-10   -0.497447\n",
       "2020-01-15    1.446559\n",
       "dtype: float64"
      ]
     },
     "execution_count": 65,
     "metadata": {},
     "output_type": "execute_result"
    }
   ],
   "source": [
    "ts.truncate(after=\"1/15/2020\")"
   ]
  },
  {
   "cell_type": "code",
   "execution_count": 66,
   "id": "7b21784c-c07a-4d3d-a151-3c1ff02efb33",
   "metadata": {},
   "outputs": [],
   "source": [
    "date=pd.date_range(\"1/1/2020\",\n",
    "                   periods=100,\n",
    "                   freq=\"W-SUN\")"
   ]
  },
  {
   "cell_type": "code",
   "execution_count": 67,
   "id": "0269e7bd-d88e-427b-90c1-951d646d3f2d",
   "metadata": {},
   "outputs": [
    {
     "data": {
      "text/html": [
       "<div>\n",
       "<style scoped>\n",
       "    .dataframe tbody tr th:only-of-type {\n",
       "        vertical-align: middle;\n",
       "    }\n",
       "\n",
       "    .dataframe tbody tr th {\n",
       "        vertical-align: top;\n",
       "    }\n",
       "\n",
       "    .dataframe thead th {\n",
       "        text-align: right;\n",
       "    }\n",
       "</style>\n",
       "<table border=\"1\" class=\"dataframe\">\n",
       "  <thead>\n",
       "    <tr style=\"text-align: right;\">\n",
       "      <th></th>\n",
       "      <th>A</th>\n",
       "      <th>B</th>\n",
       "      <th>C</th>\n",
       "      <th>D</th>\n",
       "    </tr>\n",
       "  </thead>\n",
       "  <tbody>\n",
       "    <tr>\n",
       "      <th>2020-01-05</th>\n",
       "      <td>0.484097</td>\n",
       "      <td>0.365644</td>\n",
       "      <td>2.393421</td>\n",
       "      <td>0.039768</td>\n",
       "    </tr>\n",
       "    <tr>\n",
       "      <th>2020-01-12</th>\n",
       "      <td>0.618473</td>\n",
       "      <td>1.018350</td>\n",
       "      <td>-0.339003</td>\n",
       "      <td>-2.552301</td>\n",
       "    </tr>\n",
       "    <tr>\n",
       "      <th>2020-01-19</th>\n",
       "      <td>0.810572</td>\n",
       "      <td>-1.564491</td>\n",
       "      <td>1.080764</td>\n",
       "      <td>-1.530435</td>\n",
       "    </tr>\n",
       "    <tr>\n",
       "      <th>2020-01-26</th>\n",
       "      <td>0.779640</td>\n",
       "      <td>0.498951</td>\n",
       "      <td>1.205404</td>\n",
       "      <td>0.883679</td>\n",
       "    </tr>\n",
       "    <tr>\n",
       "      <th>2020-02-02</th>\n",
       "      <td>-0.770789</td>\n",
       "      <td>-3.189544</td>\n",
       "      <td>-0.370595</td>\n",
       "      <td>-0.471710</td>\n",
       "    </tr>\n",
       "  </tbody>\n",
       "</table>\n",
       "</div>"
      ],
      "text/plain": [
       "                   A         B         C         D\n",
       "2020-01-05  0.484097  0.365644  2.393421  0.039768\n",
       "2020-01-12  0.618473  1.018350 -0.339003 -2.552301\n",
       "2020-01-19  0.810572 -1.564491  1.080764 -1.530435\n",
       "2020-01-26  0.779640  0.498951  1.205404  0.883679\n",
       "2020-02-02 -0.770789 -3.189544 -0.370595 -0.471710"
      ]
     },
     "execution_count": 67,
     "metadata": {},
     "output_type": "execute_result"
    }
   ],
   "source": [
    "long_df=pd.DataFrame(np.random.randn(100,4),\n",
    "                    index=date,\n",
    "                    columns=list(\"ABCD\"))\n",
    "long_df.head()"
   ]
  },
  {
   "cell_type": "code",
   "execution_count": 71,
   "id": "5c16522c-140e-46f2-9d62-48bfe720d1a6",
   "metadata": {},
   "outputs": [
    {
     "data": {
      "text/html": [
       "<div>\n",
       "<style scoped>\n",
       "    .dataframe tbody tr th:only-of-type {\n",
       "        vertical-align: middle;\n",
       "    }\n",
       "\n",
       "    .dataframe tbody tr th {\n",
       "        vertical-align: top;\n",
       "    }\n",
       "\n",
       "    .dataframe thead th {\n",
       "        text-align: right;\n",
       "    }\n",
       "</style>\n",
       "<table border=\"1\" class=\"dataframe\">\n",
       "  <thead>\n",
       "    <tr style=\"text-align: right;\">\n",
       "      <th></th>\n",
       "      <th>A</th>\n",
       "      <th>B</th>\n",
       "      <th>C</th>\n",
       "      <th>D</th>\n",
       "    </tr>\n",
       "  </thead>\n",
       "  <tbody>\n",
       "    <tr>\n",
       "      <th>2020-10-04</th>\n",
       "      <td>-1.036029</td>\n",
       "      <td>-0.823330</td>\n",
       "      <td>-0.120775</td>\n",
       "      <td>2.700567</td>\n",
       "    </tr>\n",
       "    <tr>\n",
       "      <th>2020-10-11</th>\n",
       "      <td>0.036441</td>\n",
       "      <td>-0.078198</td>\n",
       "      <td>1.512189</td>\n",
       "      <td>0.025550</td>\n",
       "    </tr>\n",
       "    <tr>\n",
       "      <th>2020-10-18</th>\n",
       "      <td>0.869602</td>\n",
       "      <td>0.209151</td>\n",
       "      <td>-0.910959</td>\n",
       "      <td>-0.055384</td>\n",
       "    </tr>\n",
       "    <tr>\n",
       "      <th>2020-10-25</th>\n",
       "      <td>-0.854653</td>\n",
       "      <td>-1.529559</td>\n",
       "      <td>0.339011</td>\n",
       "      <td>0.756713</td>\n",
       "    </tr>\n",
       "  </tbody>\n",
       "</table>\n",
       "</div>"
      ],
      "text/plain": [
       "                   A         B         C         D\n",
       "2020-10-04 -1.036029 -0.823330 -0.120775  2.700567\n",
       "2020-10-11  0.036441 -0.078198  1.512189  0.025550\n",
       "2020-10-18  0.869602  0.209151 -0.910959 -0.055384\n",
       "2020-10-25 -0.854653 -1.529559  0.339011  0.756713"
      ]
     },
     "execution_count": 71,
     "metadata": {},
     "output_type": "execute_result"
    }
   ],
   "source": [
    "long_df.loc[\"2020-10\"]"
   ]
  },
  {
   "cell_type": "code",
   "execution_count": 72,
   "id": "2e75ac5a-08da-4035-9080-f66e3da3e355",
   "metadata": {},
   "outputs": [
    {
     "data": {
      "text/plain": [
       "2020-01-01    0\n",
       "2020-01-02    1\n",
       "2020-01-02    2\n",
       "2020-01-02    3\n",
       "2020-01-03    4\n",
       "dtype: int32"
      ]
     },
     "execution_count": 72,
     "metadata": {},
     "output_type": "execute_result"
    }
   ],
   "source": [
    "date=pd.DatetimeIndex(\n",
    "    [\"1/1/2020\",\"1/2/2020\",\"1/2/2020\",\n",
    "     \"1/2/2020\",\"1/3/2020\"])\n",
    "ts1=pd.Series(np.arange(5),index=date)\n",
    "ts1"
   ]
  },
  {
   "cell_type": "code",
   "execution_count": 73,
   "id": "72315872-46dd-4dc9-9263-f4c9b8ac458e",
   "metadata": {},
   "outputs": [
    {
     "data": {
      "text/plain": [
       "False"
      ]
     },
     "execution_count": 73,
     "metadata": {},
     "output_type": "execute_result"
    }
   ],
   "source": [
    "ts1.index.is_unique "
   ]
  },
  {
   "cell_type": "code",
   "execution_count": 74,
   "id": "5e9ad4d4-ccba-46a1-8821-1333084def6f",
   "metadata": {},
   "outputs": [],
   "source": [
    "group=ts1.groupby(level=0) "
   ]
  },
  {
   "cell_type": "code",
   "execution_count": 75,
   "id": "6a7c1f31-e4dd-4264-bacc-a68537e1c546",
   "metadata": {},
   "outputs": [
    {
     "data": {
      "text/plain": [
       "2020-01-01    1\n",
       "2020-01-02    3\n",
       "2020-01-03    1\n",
       "dtype: int64"
      ]
     },
     "execution_count": 75,
     "metadata": {},
     "output_type": "execute_result"
    }
   ],
   "source": [
    "group.count()"
   ]
  },
  {
   "cell_type": "code",
   "execution_count": 76,
   "id": "ef463a96-d92c-44db-9a88-c66dcc7b5d2e",
   "metadata": {},
   "outputs": [
    {
     "data": {
      "text/plain": [
       "2020-01-01    0.0\n",
       "2020-01-02    2.0\n",
       "2020-01-03    4.0\n",
       "dtype: float64"
      ]
     },
     "execution_count": 76,
     "metadata": {},
     "output_type": "execute_result"
    }
   ],
   "source": [
    "group.mean()"
   ]
  },
  {
   "cell_type": "code",
   "execution_count": null,
   "id": "d5fef279-d17b-486f-8f33-519f13d66545",
   "metadata": {},
   "outputs": [],
   "source": []
  }
 ],
 "metadata": {
  "kernelspec": {
   "display_name": "Python 3 (ipykernel)",
   "language": "python",
   "name": "python3"
  },
  "language_info": {
   "codemirror_mode": {
    "name": "ipython",
    "version": 3
   },
   "file_extension": ".py",
   "mimetype": "text/x-python",
   "name": "python",
   "nbconvert_exporter": "python",
   "pygments_lexer": "ipython3",
   "version": "3.12.4"
  }
 },
 "nbformat": 4,
 "nbformat_minor": 5
}
