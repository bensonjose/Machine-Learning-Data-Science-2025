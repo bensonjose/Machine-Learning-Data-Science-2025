{
 "cells": [
  {
   "cell_type": "code",
   "execution_count": 23,
   "id": "ad28c6f6-3117-4dc7-8bd3-882f7060321e",
   "metadata": {},
   "outputs": [],
   "source": [
    "import pandas as pd"
   ]
  },
  {
   "cell_type": "code",
   "execution_count": 27,
   "id": "722d174d-755a-4b4c-bd10-d19c2638d983",
   "metadata": {},
   "outputs": [
    {
     "data": {
      "text/plain": [
       "['Benson', 9, 3.6, 'Pam']"
      ]
     },
     "execution_count": 27,
     "metadata": {},
     "output_type": "execute_result"
    }
   ],
   "source": [
    "obj=[\"Benson\",9,3.6,\"Pam\"]\n",
    "obj"
   ]
  },
  {
   "cell_type": "code",
   "execution_count": 28,
   "id": "7ff7f097-bfbc-4a4a-8d55-4ff797fb2102",
   "metadata": {},
   "outputs": [
    {
     "data": {
      "text/plain": [
       "0    Benson\n",
       "1         9\n",
       "2       3.6\n",
       "3       Pam\n",
       "dtype: object"
      ]
     },
     "execution_count": 28,
     "metadata": {},
     "output_type": "execute_result"
    }
   ],
   "source": [
    "obj=pd.Series(obj)\n",
    "obj"
   ]
  },
  {
   "cell_type": "code",
   "execution_count": 29,
   "id": "cd0d9924-3b05-4f90-8f01-ef3e38560a2b",
   "metadata": {},
   "outputs": [
    {
     "data": {
      "text/plain": [
       "array(['Benson', 9, 3.6, 'Pam'], dtype=object)"
      ]
     },
     "execution_count": 29,
     "metadata": {},
     "output_type": "execute_result"
    }
   ],
   "source": [
    "obj.values"
   ]
  },
  {
   "cell_type": "code",
   "execution_count": 31,
   "id": "f56febed-ddc6-4370-ba0d-0c26ee64d5dd",
   "metadata": {},
   "outputs": [
    {
     "data": {
      "text/plain": [
       "a    Benson\n",
       "b         9\n",
       "c       3.6\n",
       "d       Pam\n",
       "dtype: object"
      ]
     },
     "execution_count": 31,
     "metadata": {},
     "output_type": "execute_result"
    }
   ],
   "source": [
    "obj2=pd.Series([\"Benson\",9,3.6,\"Pam\"],index=[\"a\",'b','c','d'])\n",
    "obj2"
   ]
  },
  {
   "cell_type": "code",
   "execution_count": 32,
   "id": "d754a92c-181e-4c4d-801f-1cfddf01c523",
   "metadata": {},
   "outputs": [
    {
     "data": {
      "text/plain": [
       "Index(['a', 'b', 'c', 'd'], dtype='object')"
      ]
     },
     "execution_count": 32,
     "metadata": {},
     "output_type": "execute_result"
    }
   ],
   "source": [
    "obj2.index"
   ]
  },
  {
   "cell_type": "code",
   "execution_count": 33,
   "id": "60a539de-0bb7-46f2-8af6-b9f2f04bce2c",
   "metadata": {},
   "outputs": [
    {
     "data": {
      "text/plain": [
       "array(['Benson', 9, 3.6, 'Pam'], dtype=object)"
      ]
     },
     "execution_count": 33,
     "metadata": {},
     "output_type": "execute_result"
    }
   ],
   "source": [
    "obj2.values"
   ]
  },
  {
   "cell_type": "code",
   "execution_count": 42,
   "id": "101af483-80e2-4205-96a4-b460219bfe19",
   "metadata": {},
   "outputs": [
    {
     "name": "stderr",
     "output_type": "stream",
     "text": [
      "C:\\Users\\Dell\\AppData\\Local\\Temp\\ipykernel_11252\\1647785188.py:1: FutureWarning: Series.__getitem__ treating keys as positions is deprecated. In a future version, integer keys will always be treated as labels (consistent with DataFrame behavior). To access a value by position, use `ser.iloc[pos]`\n",
      "  obj2[2], obj2[0], obj2[3]\n"
     ]
    },
    {
     "data": {
      "text/plain": [
       "(3.6, 'Benson', 'Pam')"
      ]
     },
     "execution_count": 42,
     "metadata": {},
     "output_type": "execute_result"
    }
   ],
   "source": [
    "obj2[2], obj2[0], obj2[3]"
   ]
  },
  {
   "cell_type": "code",
   "execution_count": 43,
   "id": "7a962d7d-4bf0-4c7c-8065-5520bd1e514f",
   "metadata": {},
   "outputs": [
    {
     "data": {
      "text/plain": [
       "{'Newton': 93, 'Einstein': 99, 'Benson': 90, 'Madison': 88}"
      ]
     },
     "execution_count": 43,
     "metadata": {},
     "output_type": "execute_result"
    }
   ],
   "source": [
    "scores={\"Newton\":93,\"Einstein\":99,\"Benson\":90,\"Madison\":88}\n",
    "scores"
   ]
  },
  {
   "cell_type": "code",
   "execution_count": 44,
   "id": "3085e5a8-9c5c-4fa3-89a4-b6a8b67ae5a1",
   "metadata": {},
   "outputs": [
    {
     "data": {
      "text/plain": [
       "Newton      93\n",
       "Einstein    99\n",
       "Benson      90\n",
       "Madison     88\n",
       "dtype: int64"
      ]
     },
     "execution_count": 44,
     "metadata": {},
     "output_type": "execute_result"
    }
   ],
   "source": [
    "scores=pd.Series(scores)\n",
    "scores"
   ]
  },
  {
   "cell_type": "code",
   "execution_count": 45,
   "id": "a005836f-8baf-4883-958a-c8c690e9975e",
   "metadata": {},
   "outputs": [
    {
     "data": {
      "text/plain": [
       "93"
      ]
     },
     "execution_count": 45,
     "metadata": {},
     "output_type": "execute_result"
    }
   ],
   "source": [
    "scores['Newton']"
   ]
  },
  {
   "cell_type": "code",
   "execution_count": 47,
   "id": "1c6eeb4a-3337-449b-95b1-3d5fb6d5245d",
   "metadata": {},
   "outputs": [
    {
     "data": {
      "text/plain": [
       "Newton      93\n",
       "Einstein    99\n",
       "dtype: int64"
      ]
     },
     "execution_count": 47,
     "metadata": {},
     "output_type": "execute_result"
    }
   ],
   "source": [
    "scores[scores>92]"
   ]
  },
  {
   "cell_type": "code",
   "execution_count": 48,
   "id": "1bfcabf0-d81e-4603-b096-05f004a06c49",
   "metadata": {},
   "outputs": [],
   "source": [
    "scores[\"Benson\"]=95"
   ]
  },
  {
   "cell_type": "code",
   "execution_count": 49,
   "id": "35d65358-ed45-44c4-9869-5368293aaf11",
   "metadata": {},
   "outputs": [
    {
     "data": {
      "text/plain": [
       "Newton      93\n",
       "Einstein    99\n",
       "Benson      95\n",
       "Madison     88\n",
       "dtype: int64"
      ]
     },
     "execution_count": 49,
     "metadata": {},
     "output_type": "execute_result"
    }
   ],
   "source": [
    "scores"
   ]
  },
  {
   "cell_type": "code",
   "execution_count": 51,
   "id": "97417f7e-c9b5-4eba-899e-3b3f734cb05c",
   "metadata": {},
   "outputs": [
    {
     "data": {
      "text/plain": [
       "Newton      100\n",
       "Einstein    100\n",
       "Benson      100\n",
       "Madison      88\n",
       "dtype: int64"
      ]
     },
     "execution_count": 51,
     "metadata": {},
     "output_type": "execute_result"
    }
   ],
   "source": [
    "scores[scores>=93]=100\n",
    "scores"
   ]
  },
  {
   "cell_type": "code",
   "execution_count": 52,
   "id": "8c06bf33-af1b-4bc5-8c19-c5b0d5821951",
   "metadata": {},
   "outputs": [
    {
     "data": {
      "text/plain": [
       "True"
      ]
     },
     "execution_count": 52,
     "metadata": {},
     "output_type": "execute_result"
    }
   ],
   "source": [
    "\"Newton\" in scores"
   ]
  },
  {
   "cell_type": "code",
   "execution_count": 53,
   "id": "8556214d-4f5d-46f5-a1df-adc8e690bc1e",
   "metadata": {},
   "outputs": [
    {
     "data": {
      "text/plain": [
       "False"
      ]
     },
     "execution_count": 53,
     "metadata": {},
     "output_type": "execute_result"
    }
   ],
   "source": [
    "\"Alexa\" in scores"
   ]
  },
  {
   "cell_type": "code",
   "execution_count": 54,
   "id": "7c178d6d-e671-40c1-b968-4645d5967488",
   "metadata": {},
   "outputs": [
    {
     "data": {
      "text/plain": [
       "Newton      10.0\n",
       "Einstein    10.0\n",
       "Benson      10.0\n",
       "Madison      8.8\n",
       "dtype: float64"
      ]
     },
     "execution_count": 54,
     "metadata": {},
     "output_type": "execute_result"
    }
   ],
   "source": [
    "scores/10"
   ]
  },
  {
   "cell_type": "code",
   "execution_count": 55,
   "id": "680dd925-80d7-43dd-b817-6eb835fdfcb3",
   "metadata": {},
   "outputs": [
    {
     "data": {
      "text/plain": [
       "Newton      10000\n",
       "Einstein    10000\n",
       "Benson      10000\n",
       "Madison      7744\n",
       "dtype: int64"
      ]
     },
     "execution_count": 55,
     "metadata": {},
     "output_type": "execute_result"
    }
   ],
   "source": [
    "scores**2"
   ]
  },
  {
   "cell_type": "code",
   "execution_count": 56,
   "id": "7429cf78-6768-413e-8294-7284b63e4d2e",
   "metadata": {},
   "outputs": [
    {
     "data": {
      "text/plain": [
       "Newton      False\n",
       "Einstein    False\n",
       "Benson      False\n",
       "Madison     False\n",
       "dtype: bool"
      ]
     },
     "execution_count": 56,
     "metadata": {},
     "output_type": "execute_result"
    }
   ],
   "source": [
    "scores.isnull()"
   ]
  },
  {
   "cell_type": "code",
   "execution_count": null,
   "id": "ae8aff56-1291-47e2-88b4-3b62e49d0a70",
   "metadata": {},
   "outputs": [],
   "source": []
  }
 ],
 "metadata": {
  "kernelspec": {
   "display_name": "Python 3 (ipykernel)",
   "language": "python",
   "name": "python3"
  },
  "language_info": {
   "codemirror_mode": {
    "name": "ipython",
    "version": 3
   },
   "file_extension": ".py",
   "mimetype": "text/x-python",
   "name": "python",
   "nbconvert_exporter": "python",
   "pygments_lexer": "ipython3",
   "version": "3.12.4"
  }
 },
 "nbformat": 4,
 "nbformat_minor": 5
}
